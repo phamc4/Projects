{
 "cells": [
  {
   "cell_type": "markdown",
   "metadata": {},
   "source": [
    "### Data is sourced from:\n",
    "\n",
    "https://nces.ed.gov/programs/digest/index.asp"
   ]
  },
  {
   "cell_type": "code",
   "execution_count": 1,
   "metadata": {},
   "outputs": [],
   "source": [
    "#Import libraries\n",
    "import numpy as np\n",
    "import pandas as pd\n",
    "import matplotlib.pyplot as plt\n",
    "from functools import reduce\n",
    "import scipy.stats as stats\n",
    "import seaborn as sns\n",
    "from matplotlib.patches import Rectangle\n",
    "\n",
    "%matplotlib inline\n",
    "plt.style.use('seaborn-colorblind')"
   ]
  },
  {
   "cell_type": "markdown",
   "metadata": {},
   "source": [
    "### Reading in Relevant Dataset"
   ]
  },
  {
   "cell_type": "code",
   "execution_count": 2,
   "metadata": {},
   "outputs": [],
   "source": [
    "\n",
    "#2005-2015: Reading in mulitple excels because they don't contain all the years\n",
    "old_2006_2009 = pd.read_excel('data/2006_2009.xls', skiprows=range(3)) #<-- 2005,2007,2008,2009\n",
    "load_2006 = pd.read_excel('data/2006.xls', skiprows = range(6)) #<-- 2006\n",
    "sat_1995_2015 = pd.read_excel('data/SAT_1995_2015.xls', skiprows=range(3)) #<-- 2010, 2013, 2014\n",
    "\n",
    "\n",
    "load_2011_2012 = pd.read_excel('data/2010-2012.xls', skiprows=range(5)) #<-- 2011, 2012\n",
    "load_2015 = pd.read_excel('data/2015.xls', skiprows=range(5)) #<-- 2015\n",
    "\n",
    "\n",
    "sat_1987_1998 = pd.read_excel('data/SAT_1987_1998.xls', skiprows=range(11))\n",
    "sat_2017_2018 = pd.read_excel('data/SAT_2017_2018.xls', skiprows=range(5))\n",
    "#Remove unwanted rows and columns\n",
    "sat_2017 = sat_2017_2018.iloc[:-3, :8] \n",
    "sat_2018 = sat_2017_2018.iloc[:-3, 8:] \n",
    "\n",
    "\n",
    "#Relevant to ethnicity\n",
    "race = pd.read_excel('data/race_score.xls')\n",
    "race = race.iloc[3:41, :17]\n",
    "race.drop(race.columns[[1,2,3,4,5,6]], axis=1, inplace=True)\n",
    "race.columns = ['Ethnicity', '2005', '2006', '2007', '2008', '2009', '2010', '2011', '2012', '2013', '2014']"
   ]
  },
  {
   "cell_type": "markdown",
   "metadata": {},
   "source": [
    "### Old SAT format: 2400 score. Lasted from 2005-2015"
   ]
  },
  {
   "cell_type": "code",
   "execution_count": 3,
   "metadata": {},
   "outputs": [],
   "source": [
    "#Helper functions\n",
    "\n",
    "\n",
    "#Get the clean list of states from the DF.\n",
    "def clean_states(df:pd.DataFrame) -> list:\n",
    "    '''States column contains unwanted text('.').\n",
    "    Strips unwanted text to merge dataframes more seemlessly'''\n",
    "    \n",
    "    states_list = []\n",
    "    for i in df.iloc[:, 0]:\n",
    "        states_list.append(i.split('.')[0])\n",
    "        \n",
    "    return states_list\n",
    "\n",
    "\n",
    "\n",
    "#Cleaning up data and splitting the DF\n",
    "def clean_multi_dataset(df, renamed_col = ['State', 'Reading', 'Math', 'Writing']):\n",
    "    for i in range(1, len(df.columns) - 1, 3):\n",
    "        data_year = df.iloc[:,i:i+3]\n",
    "        data_year.insert(0, 'States', clean_states(df))\n",
    "        \n",
    "        data_year.columns = renamed_col\n",
    "        \n",
    "        data_year['SAT Total Score'] = data_year.apply(lambda row: row.Reading + row.Math + row.Writing, axis=1)\n",
    "\n",
    "        yield data_year\n",
    "    \n",
    "  \n",
    "#For df that only contain 1 year needed:\n",
    "def clean_dataset(df, start, end, renamed_col = ['State', 'Reading', 'Math', 'Writing']):\n",
    "    data_year = df.iloc[:, start:end]\n",
    "\n",
    "    data_year.insert(0, 'States', clean_states(df))\n",
    "    data_year.columns = renamed_col\n",
    "    data_year['SAT Total Score'] = data_year.apply(lambda row: row.Reading + row.Math + row.Writing, axis=1)\n",
    "\n",
    "    return data_year"
   ]
  },
  {
   "cell_type": "markdown",
   "metadata": {},
   "source": [
    "Clean table of NaN rows and columns and nonuseful data."
   ]
  },
  {
   "cell_type": "code",
   "execution_count": 4,
   "metadata": {},
   "outputs": [],
   "source": [
    "def remove_nan(df):\n",
    "    return df[pd.notnull(df.iloc[:,1])]"
   ]
  },
  {
   "cell_type": "code",
   "execution_count": 5,
   "metadata": {},
   "outputs": [
    {
     "data": {
      "text/html": [
       "<div>\n",
       "<style scoped>\n",
       "    .dataframe tbody tr th:only-of-type {\n",
       "        vertical-align: middle;\n",
       "    }\n",
       "\n",
       "    .dataframe tbody tr th {\n",
       "        vertical-align: top;\n",
       "    }\n",
       "\n",
       "    .dataframe thead th {\n",
       "        text-align: right;\n",
       "    }\n",
       "</style>\n",
       "<table border=\"1\" class=\"dataframe\">\n",
       "  <thead>\n",
       "    <tr style=\"text-align: right;\">\n",
       "      <th></th>\n",
       "      <th>1</th>\n",
       "      <th>2</th>\n",
       "      <th>3</th>\n",
       "      <th>4</th>\n",
       "      <th>5</th>\n",
       "      <th>6</th>\n",
       "      <th>7</th>\n",
       "      <th>8</th>\n",
       "      <th>9</th>\n",
       "      <th>10</th>\n",
       "      <th>11</th>\n",
       "      <th>12</th>\n",
       "      <th>13</th>\n",
       "      <th>14</th>\n",
       "      <th>15</th>\n",
       "      <th>16</th>\n",
       "      <th>Unnamed: 16</th>\n",
       "      <th>17</th>\n",
       "      <th>Unnamed: 18</th>\n",
       "    </tr>\n",
       "  </thead>\n",
       "  <tbody>\n",
       "    <tr>\n",
       "      <th>0</th>\n",
       "      <td>United States .....</td>\n",
       "      <td>505.0</td>\n",
       "      <td>501.0</td>\n",
       "      <td>505.0</td>\n",
       "      <td>508.0</td>\n",
       "      <td>506.0</td>\n",
       "      <td>514.0</td>\n",
       "      <td>508.0</td>\n",
       "      <td>520.0</td>\n",
       "      <td>503.0</td>\n",
       "      <td>518.0</td>\n",
       "      <td>497.0</td>\n",
       "      <td>502.0</td>\n",
       "      <td>515.0</td>\n",
       "      <td>494.0</td>\n",
       "      <td>48.0</td>\n",
       "      <td>NaN</td>\n",
       "      <td>48.0</td>\n",
       "      <td>NaN</td>\n",
       "    </tr>\n",
       "    <tr>\n",
       "      <th>1</th>\n",
       "      <td>Alabama .......................</td>\n",
       "      <td>554.0</td>\n",
       "      <td>540.0</td>\n",
       "      <td>565.0</td>\n",
       "      <td>558.0</td>\n",
       "      <td>559.0</td>\n",
       "      <td>554.0</td>\n",
       "      <td>567.0</td>\n",
       "      <td>559.0</td>\n",
       "      <td>565.0</td>\n",
       "      <td>561.0</td>\n",
       "      <td>565.0</td>\n",
       "      <td>563.0</td>\n",
       "      <td>556.0</td>\n",
       "      <td>554.0</td>\n",
       "      <td>9.0</td>\n",
       "      <td>NaN</td>\n",
       "      <td>9.0</td>\n",
       "      <td>NaN</td>\n",
       "    </tr>\n",
       "    <tr>\n",
       "      <th>2</th>\n",
       "      <td>Alaska ........................</td>\n",
       "      <td>518.0</td>\n",
       "      <td>501.0</td>\n",
       "      <td>521.0</td>\n",
       "      <td>513.0</td>\n",
       "      <td>514.0</td>\n",
       "      <td>510.0</td>\n",
       "      <td>523.0</td>\n",
       "      <td>519.0</td>\n",
       "      <td>517.0</td>\n",
       "      <td>517.0</td>\n",
       "      <td>493.0</td>\n",
       "      <td>519.0</td>\n",
       "      <td>517.0</td>\n",
       "      <td>491.0</td>\n",
       "      <td>51.0</td>\n",
       "      <td>NaN</td>\n",
       "      <td>48.0</td>\n",
       "      <td>NaN</td>\n",
       "    </tr>\n",
       "    <tr>\n",
       "      <th>3</th>\n",
       "      <td>Arizona ......................</td>\n",
       "      <td>531.0</td>\n",
       "      <td>523.0</td>\n",
       "      <td>525.0</td>\n",
       "      <td>521.0</td>\n",
       "      <td>523.0</td>\n",
       "      <td>525.0</td>\n",
       "      <td>526.0</td>\n",
       "      <td>530.0</td>\n",
       "      <td>521.0</td>\n",
       "      <td>528.0</td>\n",
       "      <td>507.0</td>\n",
       "      <td>519.0</td>\n",
       "      <td>525.0</td>\n",
       "      <td>502.0</td>\n",
       "      <td>32.0</td>\n",
       "      <td>NaN</td>\n",
       "      <td>32.0</td>\n",
       "      <td>NaN</td>\n",
       "    </tr>\n",
       "    <tr>\n",
       "      <th>4</th>\n",
       "      <td>Arkansas ......................</td>\n",
       "      <td>554.0</td>\n",
       "      <td>536.0</td>\n",
       "      <td>566.0</td>\n",
       "      <td>550.0</td>\n",
       "      <td>562.0</td>\n",
       "      <td>550.0</td>\n",
       "      <td>563.0</td>\n",
       "      <td>552.0</td>\n",
       "      <td>574.0</td>\n",
       "      <td>568.0</td>\n",
       "      <td>567.0</td>\n",
       "      <td>578.0</td>\n",
       "      <td>566.0</td>\n",
       "      <td>565.0</td>\n",
       "      <td>5.0</td>\n",
       "      <td>NaN</td>\n",
       "      <td>5.0</td>\n",
       "      <td>NaN</td>\n",
       "    </tr>\n",
       "  </tbody>\n",
       "</table>\n",
       "</div>"
      ],
      "text/plain": [
       "                                 1      2      3      4      5      6      7  \\\n",
       "0              United States .....  505.0  501.0  505.0  508.0  506.0  514.0   \n",
       "1  Alabama .......................  554.0  540.0  565.0  558.0  559.0  554.0   \n",
       "2  Alaska ........................  518.0  501.0  521.0  513.0  514.0  510.0   \n",
       "3   Arizona ......................  531.0  523.0  525.0  521.0  523.0  525.0   \n",
       "4  Arkansas ......................  554.0  536.0  566.0  550.0  562.0  550.0   \n",
       "\n",
       "       8      9     10     11     12     13     14     15    16 Unnamed: 16  \\\n",
       "0  508.0  520.0  503.0  518.0  497.0  502.0  515.0  494.0  48.0         NaN   \n",
       "1  567.0  559.0  565.0  561.0  565.0  563.0  556.0  554.0   9.0         NaN   \n",
       "2  523.0  519.0  517.0  517.0  493.0  519.0  517.0  491.0  51.0         NaN   \n",
       "3  526.0  530.0  521.0  528.0  507.0  519.0  525.0  502.0  32.0         NaN   \n",
       "4  563.0  552.0  574.0  568.0  567.0  578.0  566.0  565.0   5.0         NaN   \n",
       "\n",
       "     17 Unnamed: 18  \n",
       "0  48.0         NaN  \n",
       "1   9.0         NaN  \n",
       "2  48.0         NaN  \n",
       "3  32.0         NaN  \n",
       "4   5.0         NaN  "
      ]
     },
     "execution_count": 5,
     "metadata": {},
     "output_type": "execute_result"
    }
   ],
   "source": [
    "load_2006.head()"
   ]
  },
  {
   "cell_type": "markdown",
   "metadata": {},
   "source": [
    "Cleaning data of NaN values. Ready for splitting and filtering"
   ]
  },
  {
   "cell_type": "code",
   "execution_count": 6,
   "metadata": {},
   "outputs": [],
   "source": [
    "#For 2006\n",
    "data_2006 = remove_nan(load_2006)\n",
    "\n",
    "#For 2005, 2007, 2008, 2009\n",
    "old_2006_2009 = remove_nan(old_2006_2009).drop(columns=[2,3,4,5,18,19])\n",
    "\n",
    "#For 2010, 2013, 2014\n",
    "sat_1995_2015 = remove_nan(sat_1995_2015).drop(columns=[2,3,4,5,6,7,8,18,19])\n",
    "\n",
    "#For 2011, 2012\n",
    "load_2011_2012 = remove_nan(load_2011_2012)\n",
    "\n",
    "#For 2015\n",
    "load_2015 = remove_nan(load_2015)"
   ]
  },
  {
   "cell_type": "markdown",
   "metadata": {},
   "source": [
    "Apply functions to dataset to be separated into their respective years."
   ]
  },
  {
   "cell_type": "code",
   "execution_count": 7,
   "metadata": {},
   "outputs": [],
   "source": [
    "#Relevant tables for 2005-2010:\n",
    "cleaned_2005_2009 = clean_multi_dataset(old_2006_2009) #<-- 2005, 2007, 2008, 2009\n",
    "\n",
    "#Relevant tables for both:\n",
    "cleaned_10_13_14 = clean_multi_dataset(sat_1995_2015) #<-- 2010, 2013, 2014\n",
    "\n",
    "#Relevant for 2011-2015\n",
    "cleaned_11_12 = clean_multi_dataset(load_2011_2012) #<-- 2011, 2012\n",
    "#load_2015"
   ]
  },
  {
   "cell_type": "code",
   "execution_count": 8,
   "metadata": {},
   "outputs": [],
   "source": [
    "# Data for 2005-2010:\n",
    "sat_2005 = next(cleaned_2005_2009)\n",
    "sat_2006 = clean_dataset(data_2006, 12, 15)\n",
    "sat_2007 = next(cleaned_2005_2009)\n",
    "\n",
    "sat_2008 = next(cleaned_2005_2009)\n",
    "sat_2009 = next(cleaned_2005_2009)\n",
    "sat_2010 = next(cleaned_10_13_14)"
   ]
  },
  {
   "cell_type": "code",
   "execution_count": 9,
   "metadata": {},
   "outputs": [],
   "source": [
    "# #Data for 2011-2015:\n",
    "sat_2011 = next(cleaned_11_12)\n",
    "sat_2012 = next(cleaned_11_12)\n",
    "sat_2013 = next(cleaned_10_13_14)\n",
    "\n",
    "sat_2014 = next(cleaned_10_13_14)\n",
    "sat_2015 = clean_dataset(load_2015, 14, 17)"
   ]
  },
  {
   "cell_type": "code",
   "execution_count": 10,
   "metadata": {},
   "outputs": [
    {
     "data": {
      "text/html": [
       "<div>\n",
       "<style scoped>\n",
       "    .dataframe tbody tr th:only-of-type {\n",
       "        vertical-align: middle;\n",
       "    }\n",
       "\n",
       "    .dataframe tbody tr th {\n",
       "        vertical-align: top;\n",
       "    }\n",
       "\n",
       "    .dataframe thead th {\n",
       "        text-align: right;\n",
       "    }\n",
       "</style>\n",
       "<table border=\"1\" class=\"dataframe\">\n",
       "  <thead>\n",
       "    <tr style=\"text-align: right;\">\n",
       "      <th></th>\n",
       "      <th>State</th>\n",
       "      <th>Reading</th>\n",
       "      <th>Math</th>\n",
       "      <th>Writing</th>\n",
       "      <th>SAT Total Score</th>\n",
       "    </tr>\n",
       "  </thead>\n",
       "  <tbody>\n",
       "    <tr>\n",
       "      <th>0</th>\n",
       "      <td>United States</td>\n",
       "      <td>503.0</td>\n",
       "      <td>518.0</td>\n",
       "      <td>497.0</td>\n",
       "      <td>1518.0</td>\n",
       "    </tr>\n",
       "    <tr>\n",
       "      <th>1</th>\n",
       "      <td>Alabama</td>\n",
       "      <td>565.0</td>\n",
       "      <td>561.0</td>\n",
       "      <td>565.0</td>\n",
       "      <td>1691.0</td>\n",
       "    </tr>\n",
       "    <tr>\n",
       "      <th>2</th>\n",
       "      <td>Alaska</td>\n",
       "      <td>517.0</td>\n",
       "      <td>517.0</td>\n",
       "      <td>493.0</td>\n",
       "      <td>1527.0</td>\n",
       "    </tr>\n",
       "    <tr>\n",
       "      <th>3</th>\n",
       "      <td>Arizona</td>\n",
       "      <td>521.0</td>\n",
       "      <td>528.0</td>\n",
       "      <td>507.0</td>\n",
       "      <td>1556.0</td>\n",
       "    </tr>\n",
       "    <tr>\n",
       "      <th>4</th>\n",
       "      <td>Arkansas</td>\n",
       "      <td>574.0</td>\n",
       "      <td>568.0</td>\n",
       "      <td>567.0</td>\n",
       "      <td>1709.0</td>\n",
       "    </tr>\n",
       "  </tbody>\n",
       "</table>\n",
       "</div>"
      ],
      "text/plain": [
       "               State  Reading   Math  Writing  SAT Total Score\n",
       "0     United States     503.0  518.0    497.0           1518.0\n",
       "1           Alabama     565.0  561.0    565.0           1691.0\n",
       "2            Alaska     517.0  517.0    493.0           1527.0\n",
       "3           Arizona     521.0  528.0    507.0           1556.0\n",
       "4          Arkansas     574.0  568.0    567.0           1709.0"
      ]
     },
     "execution_count": 10,
     "metadata": {},
     "output_type": "execute_result"
    }
   ],
   "source": [
    "sat_2005.head()"
   ]
  },
  {
   "cell_type": "markdown",
   "metadata": {},
   "source": [
    "How does race play into SAT scores? Cleaning up data."
   ]
  },
  {
   "cell_type": "code",
   "execution_count": 11,
   "metadata": {},
   "outputs": [
    {
     "data": {
      "text/html": [
       "<div>\n",
       "<style scoped>\n",
       "    .dataframe tbody tr th:only-of-type {\n",
       "        vertical-align: middle;\n",
       "    }\n",
       "\n",
       "    .dataframe tbody tr th {\n",
       "        vertical-align: top;\n",
       "    }\n",
       "\n",
       "    .dataframe thead th {\n",
       "        text-align: right;\n",
       "    }\n",
       "</style>\n",
       "<table border=\"1\" class=\"dataframe\">\n",
       "  <thead>\n",
       "    <tr style=\"text-align: right;\">\n",
       "      <th></th>\n",
       "      <th>Ethnicity</th>\n",
       "      <th>2005</th>\n",
       "      <th>2006</th>\n",
       "      <th>2007</th>\n",
       "      <th>2008</th>\n",
       "      <th>2009</th>\n",
       "      <th>2010</th>\n",
       "      <th>2011</th>\n",
       "      <th>2012</th>\n",
       "      <th>2013</th>\n",
       "      <th>2014</th>\n",
       "    </tr>\n",
       "  </thead>\n",
       "  <tbody>\n",
       "    <tr>\n",
       "      <th>1</th>\n",
       "      <td>White</td>\n",
       "      <td>1582</td>\n",
       "      <td>1579</td>\n",
       "      <td>1583</td>\n",
       "      <td>1581</td>\n",
       "      <td>1580</td>\n",
       "      <td>1579</td>\n",
       "      <td>1578</td>\n",
       "      <td>1576</td>\n",
       "      <td>1576</td>\n",
       "      <td>1576</td>\n",
       "    </tr>\n",
       "    <tr>\n",
       "      <th>2</th>\n",
       "      <td>Black</td>\n",
       "      <td>1291</td>\n",
       "      <td>1287</td>\n",
       "      <td>1280</td>\n",
       "      <td>1276</td>\n",
       "      <td>1277</td>\n",
       "      <td>1272</td>\n",
       "      <td>1273</td>\n",
       "      <td>1278</td>\n",
       "      <td>1278</td>\n",
       "      <td>1277</td>\n",
       "    </tr>\n",
       "    <tr>\n",
       "      <th>3</th>\n",
       "      <td>Mexican American</td>\n",
       "      <td>1371</td>\n",
       "      <td>1371</td>\n",
       "      <td>1364</td>\n",
       "      <td>1362</td>\n",
       "      <td>1369</td>\n",
       "      <td>1362</td>\n",
       "      <td>1356</td>\n",
       "      <td>1355</td>\n",
       "      <td>1354</td>\n",
       "      <td>1343</td>\n",
       "    </tr>\n",
       "    <tr>\n",
       "      <th>6</th>\n",
       "      <td>Asian</td>\n",
       "      <td>1600</td>\n",
       "      <td>1605</td>\n",
       "      <td>1610</td>\n",
       "      <td>1623</td>\n",
       "      <td>1636</td>\n",
       "      <td>1640</td>\n",
       "      <td>1641</td>\n",
       "      <td>1645</td>\n",
       "      <td>1651</td>\n",
       "      <td>1654</td>\n",
       "    </tr>\n",
       "    <tr>\n",
       "      <th>7</th>\n",
       "      <td>American Indian</td>\n",
       "      <td>981</td>\n",
       "      <td>981</td>\n",
       "      <td>976</td>\n",
       "      <td>979</td>\n",
       "      <td>977</td>\n",
       "      <td>972</td>\n",
       "      <td>971</td>\n",
       "      <td>966</td>\n",
       "      <td>967</td>\n",
       "      <td>963</td>\n",
       "    </tr>\n",
       "  </tbody>\n",
       "</table>\n",
       "</div>"
      ],
      "text/plain": [
       "          Ethnicity  2005  2006  2007  2008  2009  2010  2011  2012  2013  \\\n",
       "1             White  1582  1579  1583  1581  1580  1579  1578  1576  1576   \n",
       "2             Black  1291  1287  1280  1276  1277  1272  1273  1278  1278   \n",
       "3  Mexican American  1371  1371  1364  1362  1369  1362  1356  1355  1354   \n",
       "6             Asian  1600  1605  1610  1623  1636  1640  1641  1645  1651   \n",
       "7   American Indian   981   981   976   979   977   972   971   966   967   \n",
       "\n",
       "   2014  \n",
       "1  1576  \n",
       "2  1277  \n",
       "3  1343  \n",
       "6  1654  \n",
       "7   963  "
      ]
     },
     "execution_count": 11,
     "metadata": {},
     "output_type": "execute_result"
    }
   ],
   "source": [
    "#Throw away names\n",
    "sat_reading = race.iloc[:12,:]\n",
    "sat_math = race.iloc[14:25, :]\n",
    "sat_writing = race.iloc[27:-1,:]\n",
    "\n",
    "sat_writing = remove_nan(sat_writing)\n",
    "sat_reading = remove_nan(sat_reading)\n",
    "sat_math = remove_nan(sat_math)\n",
    "\n",
    "#Similar to the clean states but return df\n",
    "def clean_junk(df:pd.DataFrame) -> pd.DataFrame:\n",
    "    '''column contains unwanted text('.').\n",
    "    Strips unwanted text to merge dataframes more seemlessly'''\n",
    "    \n",
    "    list_ = []\n",
    "    for i in df.iloc[:, 0]:\n",
    "        list_.append(i.split('.')[0])\n",
    "    df.iloc[:,0] = list_    \n",
    "    return df\n",
    "_1 = clean_junk(sat_math).reset_index()\n",
    "_2 = clean_junk(sat_writing).reset_index()\n",
    "_3 = clean_junk(sat_reading).reset_index()\n",
    "\n",
    "#Not the most efficient way to do it??\n",
    "df_add = _1.iloc[1:-1,2:].add(_2.iloc[1:-1,2:], fill_value=0)\n",
    "df_eth = df_add.add(_3.iloc[1:-1,2:])\n",
    "df_eth.insert(0, 'Ethnicity', _1.iloc[:,1])\n",
    "lst_ = ['White', 'Black', 'Mexican American', 'Asian', 'American Indian']\n",
    "\n",
    "\n",
    "#Drop similar ethnic groups if score is similar\n",
    "df_eth.drop([4,5], axis=0, inplace=True)\n",
    "df_eth['Ethnicity'] = lst_\n",
    "\n",
    "df_eth"
   ]
  },
  {
   "cell_type": "markdown",
   "metadata": {},
   "source": [
    "### 2005-2010 SAT Total Score for each State: \n"
   ]
  },
  {
   "cell_type": "code",
   "execution_count": 12,
   "metadata": {},
   "outputs": [],
   "source": [
    "#2005-2010 Average Total Score per state to be plotted\n",
    "\n",
    "to_merge = [sat_2005[['State', 'SAT Total Score']], sat_2006[['State', 'SAT Total Score']], sat_2007[['State', 'SAT Total Score']], \n",
    "            sat_2008[['State', 'SAT Total Score']], sat_2009[['State', 'SAT Total Score']], sat_2010[['State', 'SAT Total Score']]]\n",
    "\n"
   ]
  },
  {
   "cell_type": "markdown",
   "metadata": {},
   "source": [
    "Each year has a total score. Merging years and also adding a column for average over the years."
   ]
  },
  {
   "cell_type": "code",
   "execution_count": 13,
   "metadata": {},
   "outputs": [],
   "source": [
    "#Merge dataframes 2005-2010\n",
    "\n",
    "df = reduce(lambda x, y: pd.merge(x,y, on='State', how='inner'), to_merge)\n",
    "df.columns = ['States', '2005 SAT Scores', '2006 SAT Scores', '2007 SAT Scores', '2008 SAT Scores', '2009 SAT Scores', '2010 SAT Scores']"
   ]
  },
  {
   "cell_type": "markdown",
   "metadata": {},
   "source": [
    "Sort by descending values"
   ]
  },
  {
   "cell_type": "code",
   "execution_count": 14,
   "metadata": {},
   "outputs": [],
   "source": [
    "#Add average over the 6 years and sort by descending values\n",
    "df['Average Over 6 Years'] = df.drop('States', axis=1).apply(lambda x: x.mean(), axis=1)\n",
    "df.sort_values(['Average Over 6 Years'], axis=0, ascending=True, inplace=True)"
   ]
  },
  {
   "cell_type": "code",
   "execution_count": 15,
   "metadata": {},
   "outputs": [
    {
     "data": {
      "text/html": [
       "<div>\n",
       "<style scoped>\n",
       "    .dataframe tbody tr th:only-of-type {\n",
       "        vertical-align: middle;\n",
       "    }\n",
       "\n",
       "    .dataframe tbody tr th {\n",
       "        vertical-align: top;\n",
       "    }\n",
       "\n",
       "    .dataframe thead th {\n",
       "        text-align: right;\n",
       "    }\n",
       "</style>\n",
       "<table border=\"1\" class=\"dataframe\">\n",
       "  <thead>\n",
       "    <tr style=\"text-align: right;\">\n",
       "      <th></th>\n",
       "      <th>States</th>\n",
       "      <th>2005 SAT Scores</th>\n",
       "      <th>2006 SAT Scores</th>\n",
       "      <th>2007 SAT Scores</th>\n",
       "      <th>2008 SAT Scores</th>\n",
       "      <th>2009 SAT Scores</th>\n",
       "      <th>2010 SAT Scores</th>\n",
       "      <th>Average Over 6 Years</th>\n",
       "    </tr>\n",
       "  </thead>\n",
       "  <tbody>\n",
       "    <tr>\n",
       "      <th>37</th>\n",
       "      <td>South Carolina</td>\n",
       "      <td>1465.0</td>\n",
       "      <td>1459.0</td>\n",
       "      <td>1461.0</td>\n",
       "      <td>1452.0</td>\n",
       "      <td>1447.0</td>\n",
       "      <td>1436.0</td>\n",
       "      <td>1453.333333</td>\n",
       "    </tr>\n",
       "    <tr>\n",
       "      <th>10</th>\n",
       "      <td>Hawaii</td>\n",
       "      <td>1463.0</td>\n",
       "      <td>1463.0</td>\n",
       "      <td>1453.0</td>\n",
       "      <td>1450.0</td>\n",
       "      <td>1458.0</td>\n",
       "      <td>1448.0</td>\n",
       "      <td>1455.833333</td>\n",
       "    </tr>\n",
       "    <tr>\n",
       "      <th>9</th>\n",
       "      <td>Georgia</td>\n",
       "      <td>1477.0</td>\n",
       "      <td>1472.0</td>\n",
       "      <td>1466.0</td>\n",
       "      <td>1460.0</td>\n",
       "      <td>1453.0</td>\n",
       "      <td>1445.0</td>\n",
       "      <td>1462.166667</td>\n",
       "    </tr>\n",
       "    <tr>\n",
       "      <th>40</th>\n",
       "      <td>Texas</td>\n",
       "      <td>1484.0</td>\n",
       "      <td>1481.0</td>\n",
       "      <td>1473.0</td>\n",
       "      <td>1467.0</td>\n",
       "      <td>1462.0</td>\n",
       "      <td>1446.0</td>\n",
       "      <td>1468.833333</td>\n",
       "    </tr>\n",
       "    <tr>\n",
       "      <th>8</th>\n",
       "      <td>Florida</td>\n",
       "      <td>1473.0</td>\n",
       "      <td>1472.0</td>\n",
       "      <td>1474.0</td>\n",
       "      <td>1475.0</td>\n",
       "      <td>1473.0</td>\n",
       "      <td>1447.0</td>\n",
       "      <td>1469.000000</td>\n",
       "    </tr>\n",
       "    <tr>\n",
       "      <th>29</th>\n",
       "      <td>New York</td>\n",
       "      <td>1486.0</td>\n",
       "      <td>1478.0</td>\n",
       "      <td>1473.0</td>\n",
       "      <td>1465.0</td>\n",
       "      <td>1461.0</td>\n",
       "      <td>1460.0</td>\n",
       "      <td>1470.500000</td>\n",
       "    </tr>\n",
       "    <tr>\n",
       "      <th>35</th>\n",
       "      <td>Pennsylvania</td>\n",
       "      <td>1476.0</td>\n",
       "      <td>1474.0</td>\n",
       "      <td>1478.0</td>\n",
       "      <td>1477.0</td>\n",
       "      <td>1473.0</td>\n",
       "      <td>1473.0</td>\n",
       "      <td>1475.166667</td>\n",
       "    </tr>\n",
       "    <tr>\n",
       "      <th>25</th>\n",
       "      <td>Nevada</td>\n",
       "      <td>1487.0</td>\n",
       "      <td>1486.0</td>\n",
       "      <td>1482.0</td>\n",
       "      <td>1485.0</td>\n",
       "      <td>1470.0</td>\n",
       "      <td>1460.0</td>\n",
       "      <td>1478.333333</td>\n",
       "    </tr>\n",
       "    <tr>\n",
       "      <th>12</th>\n",
       "      <td>Indiana</td>\n",
       "      <td>1493.0</td>\n",
       "      <td>1487.0</td>\n",
       "      <td>1485.0</td>\n",
       "      <td>1483.0</td>\n",
       "      <td>1476.0</td>\n",
       "      <td>1469.0</td>\n",
       "      <td>1482.166667</td>\n",
       "    </tr>\n",
       "    <tr>\n",
       "      <th>36</th>\n",
       "      <td>Rhode Island</td>\n",
       "      <td>1487.0</td>\n",
       "      <td>1486.0</td>\n",
       "      <td>1486.0</td>\n",
       "      <td>1488.0</td>\n",
       "      <td>1477.0</td>\n",
       "      <td>1477.0</td>\n",
       "      <td>1483.500000</td>\n",
       "    </tr>\n",
       "  </tbody>\n",
       "</table>\n",
       "</div>"
      ],
      "text/plain": [
       "             States  2005 SAT Scores  2006 SAT Scores  2007 SAT Scores  \\\n",
       "37  South Carolina            1465.0           1459.0           1461.0   \n",
       "10          Hawaii            1463.0           1463.0           1453.0   \n",
       "9          Georgia            1477.0           1472.0           1466.0   \n",
       "40           Texas            1484.0           1481.0           1473.0   \n",
       "8          Florida            1473.0           1472.0           1474.0   \n",
       "29        New York            1486.0           1478.0           1473.0   \n",
       "35    Pennsylvania            1476.0           1474.0           1478.0   \n",
       "25          Nevada            1487.0           1486.0           1482.0   \n",
       "12         Indiana            1493.0           1487.0           1485.0   \n",
       "36    Rhode Island            1487.0           1486.0           1486.0   \n",
       "\n",
       "    2008 SAT Scores  2009 SAT Scores  2010 SAT Scores  Average Over 6 Years  \n",
       "37           1452.0           1447.0           1436.0           1453.333333  \n",
       "10           1450.0           1458.0           1448.0           1455.833333  \n",
       "9            1460.0           1453.0           1445.0           1462.166667  \n",
       "40           1467.0           1462.0           1446.0           1468.833333  \n",
       "8            1475.0           1473.0           1447.0           1469.000000  \n",
       "29           1465.0           1461.0           1460.0           1470.500000  \n",
       "35           1477.0           1473.0           1473.0           1475.166667  \n",
       "25           1485.0           1470.0           1460.0           1478.333333  \n",
       "12           1483.0           1476.0           1469.0           1482.166667  \n",
       "36           1488.0           1477.0           1477.0           1483.500000  "
      ]
     },
     "execution_count": 15,
     "metadata": {},
     "output_type": "execute_result"
    }
   ],
   "source": [
    "df.head(10)"
   ]
  },
  {
   "cell_type": "code",
   "execution_count": 16,
   "metadata": {},
   "outputs": [
    {
     "data": {
      "image/png": "[encoded data removed]",
      "text/plain": [
       "<Figure size 1008x576 with 1 Axes>"
      ]
     },
     "metadata": {
      "needs_background": "light"
     },
     "output_type": "display_data"
    }
   ],
   "source": [
    "#Bar graph for first 6 years\n",
    "x = df['States']\n",
    "\n",
    "fig, ax = plt.subplots(figsize=(14,8))\n",
    "ax.barh(x, df['Average Over 6 Years'], color='blue')\n",
    "\n",
    "ax.grid(linestyle='-')\n",
    "plt.tight_layout()\n",
    "ax.set_xlim(800, 2000)\n",
    "ax.set_title('Average SAT Score by State(2005-2010)', fontsize=25)\n",
    "plt.xlabel('SAT Score', fontsize=12)\n",
    "fig.tight_layout()\n",
    "\n",
    "# plt.savefig('AverageSAT2005_2010.png')"
   ]
  },
  {
   "cell_type": "markdown",
   "metadata": {},
   "source": [
    "### 2011-2015 SAT Total Score for each State: "
   ]
  },
  {
   "cell_type": "code",
   "execution_count": 17,
   "metadata": {},
   "outputs": [],
   "source": [
    "#Average total score 2011-2015 to be plotted\n",
    "merge_ = [sat_2011[['State', 'SAT Total Score']], sat_2012[['State', 'SAT Total Score']], sat_2013[['State', 'SAT Total Score']], \n",
    "            sat_2014[['State', 'SAT Total Score']], sat_2015[['State', 'SAT Total Score']]]"
   ]
  },
  {
   "cell_type": "markdown",
   "metadata": {},
   "source": [
    "Doing the same process as above for the rest of the years"
   ]
  },
  {
   "cell_type": "code",
   "execution_count": 18,
   "metadata": {},
   "outputs": [],
   "source": [
    "#Merging dataframes together\n",
    "df2 = reduce(lambda x, y: pd.merge(x,y, on='State', how='inner'), merge_)\n",
    "df2.columns = ['States', '2011 SAT Scores', '2012 SAT Scores', '2013 SAT Scores', '2014 SAT Scores', '2015 SAT Scores']"
   ]
  },
  {
   "cell_type": "code",
   "execution_count": 19,
   "metadata": {},
   "outputs": [
    {
     "data": {
      "text/html": [
       "<div>\n",
       "<style scoped>\n",
       "    .dataframe tbody tr th:only-of-type {\n",
       "        vertical-align: middle;\n",
       "    }\n",
       "\n",
       "    .dataframe tbody tr th {\n",
       "        vertical-align: top;\n",
       "    }\n",
       "\n",
       "    .dataframe thead th {\n",
       "        text-align: right;\n",
       "    }\n",
       "</style>\n",
       "<table border=\"1\" class=\"dataframe\">\n",
       "  <thead>\n",
       "    <tr style=\"text-align: right;\">\n",
       "      <th></th>\n",
       "      <th>States</th>\n",
       "      <th>2011 SAT Scores</th>\n",
       "      <th>2012 SAT Scores</th>\n",
       "      <th>2013 SAT Scores</th>\n",
       "      <th>2014 SAT Scores</th>\n",
       "      <th>2015 SAT Scores</th>\n",
       "      <th>Average Over 5 Years</th>\n",
       "    </tr>\n",
       "  </thead>\n",
       "  <tbody>\n",
       "    <tr>\n",
       "      <th>38</th>\n",
       "      <td>Texas</td>\n",
       "      <td>1488.0</td>\n",
       "      <td>1496.0</td>\n",
       "      <td>1432.0</td>\n",
       "      <td>1410.0</td>\n",
       "      <td>1393.0</td>\n",
       "      <td>1443.8</td>\n",
       "    </tr>\n",
       "    <tr>\n",
       "      <th>35</th>\n",
       "      <td>South Carolina</td>\n",
       "      <td>1440.0</td>\n",
       "      <td>1473.0</td>\n",
       "      <td>1443.0</td>\n",
       "      <td>1442.0</td>\n",
       "      <td>1458.0</td>\n",
       "      <td>1451.2</td>\n",
       "    </tr>\n",
       "    <tr>\n",
       "      <th>6</th>\n",
       "      <td>Florida</td>\n",
       "      <td>1492.0</td>\n",
       "      <td>1492.0</td>\n",
       "      <td>1448.0</td>\n",
       "      <td>1434.0</td>\n",
       "      <td>1418.0</td>\n",
       "      <td>1456.8</td>\n",
       "    </tr>\n",
       "    <tr>\n",
       "      <th>7</th>\n",
       "      <td>Georgia</td>\n",
       "      <td>1452.0</td>\n",
       "      <td>1479.0</td>\n",
       "      <td>1445.0</td>\n",
       "      <td>1450.0</td>\n",
       "      <td>1459.0</td>\n",
       "      <td>1457.0</td>\n",
       "    </tr>\n",
       "    <tr>\n",
       "      <th>8</th>\n",
       "      <td>Hawaii</td>\n",
       "      <td>1481.0</td>\n",
       "      <td>1506.0</td>\n",
       "      <td>1460.0</td>\n",
       "      <td>1472.0</td>\n",
       "      <td>1478.0</td>\n",
       "      <td>1479.4</td>\n",
       "    </tr>\n",
       "  </tbody>\n",
       "</table>\n",
       "</div>"
      ],
      "text/plain": [
       "             States  2011 SAT Scores  2012 SAT Scores  2013 SAT Scores  \\\n",
       "38           Texas            1488.0           1496.0           1432.0   \n",
       "35  South Carolina            1440.0           1473.0           1443.0   \n",
       "6          Florida            1492.0           1492.0           1448.0   \n",
       "7          Georgia            1452.0           1479.0           1445.0   \n",
       "8           Hawaii            1481.0           1506.0           1460.0   \n",
       "\n",
       "    2014 SAT Scores  2015 SAT Scores  Average Over 5 Years  \n",
       "38           1410.0           1393.0                1443.8  \n",
       "35           1442.0           1458.0                1451.2  \n",
       "6            1434.0           1418.0                1456.8  \n",
       "7            1450.0           1459.0                1457.0  \n",
       "8            1472.0           1478.0                1479.4  "
      ]
     },
     "execution_count": 19,
     "metadata": {},
     "output_type": "execute_result"
    }
   ],
   "source": [
    "#Add average over 5 years column\n",
    "df2['Average Over 5 Years'] = df2.drop('States', axis=1).apply(lambda x: x.mean(), axis=1)\n",
    "df2.sort_values(['Average Over 5 Years'], axis=0, ascending=True, inplace=True)\n",
    "df2.head()"
   ]
  },
  {
   "cell_type": "code",
   "execution_count": 20,
   "metadata": {},
   "outputs": [
    {
     "data": {
      "image/png": "[encoded data removed]",
      "text/plain": [
       "<Figure size 1008x576 with 1 Axes>"
      ]
     },
     "metadata": {
      "needs_background": "light"
     },
     "output_type": "display_data"
    }
   ],
   "source": [
    "#Plotting\n",
    "x = df2['States']\n",
    "\n",
    "fig, ax = plt.subplots(figsize=(14,8))\n",
    "ax.barh(x, df2['Average Over 5 Years'], color='blue')\n",
    "\n",
    "ax.grid(linestyle='-')\n",
    "ax.set_xlim(800, 2000)\n",
    "ax.set_title('Average SAT Score by State(2011-2015)', fontsize=25)\n",
    "plt.xlabel('SAT Score', fontsize=12)\n",
    "fig.tight_layout()\n",
    "\n",
    "\n",
    "plt.savefig('AverageSAT2011_2015.png')"
   ]
  },
  {
   "cell_type": "code",
   "execution_count": 21,
   "metadata": {},
   "outputs": [],
   "source": [
    "#Curiousity: See which States held their top 10 status.\n",
    "top_10_first_6_years = df[['States', 'Average Over 6 Years']].tail(10)\n",
    "top_10_last_5_years = df2[['States', 'Average Over 5 Years']].tail(10)"
   ]
  },
  {
   "cell_type": "code",
   "execution_count": 22,
   "metadata": {},
   "outputs": [
    {
     "data": {
      "text/html": [
       "<div>\n",
       "<style scoped>\n",
       "    .dataframe tbody tr th:only-of-type {\n",
       "        vertical-align: middle;\n",
       "    }\n",
       "\n",
       "    .dataframe tbody tr th {\n",
       "        vertical-align: top;\n",
       "    }\n",
       "\n",
       "    .dataframe thead th {\n",
       "        text-align: right;\n",
       "    }\n",
       "</style>\n",
       "<table border=\"1\" class=\"dataframe\">\n",
       "  <thead>\n",
       "    <tr style=\"text-align: right;\">\n",
       "      <th></th>\n",
       "      <th>States</th>\n",
       "      <th>Average Score(2005-2010)</th>\n",
       "      <th>Average Score(2011-2015)</th>\n",
       "    </tr>\n",
       "  </thead>\n",
       "  <tbody>\n",
       "    <tr>\n",
       "      <th>0</th>\n",
       "      <td>Nebraska</td>\n",
       "      <td>1738.000000</td>\n",
       "      <td>1736.4</td>\n",
       "    </tr>\n",
       "    <tr>\n",
       "      <th>1</th>\n",
       "      <td>Kansas</td>\n",
       "      <td>1738.833333</td>\n",
       "      <td>1749.8</td>\n",
       "    </tr>\n",
       "    <tr>\n",
       "      <th>2</th>\n",
       "      <td>Michigan</td>\n",
       "      <td>1740.833333</td>\n",
       "      <td>1752.2</td>\n",
       "    </tr>\n",
       "    <tr>\n",
       "      <th>3</th>\n",
       "      <td>South Dakota</td>\n",
       "      <td>1759.500000</td>\n",
       "      <td>1752.6</td>\n",
       "    </tr>\n",
       "    <tr>\n",
       "      <th>4</th>\n",
       "      <td>North Dakota</td>\n",
       "      <td>1760.666667</td>\n",
       "      <td>1791.8</td>\n",
       "    </tr>\n",
       "    <tr>\n",
       "      <th>5</th>\n",
       "      <td>Missouri</td>\n",
       "      <td>1770.166667</td>\n",
       "      <td>1764.2</td>\n",
       "    </tr>\n",
       "    <tr>\n",
       "      <th>6</th>\n",
       "      <td>Wisconsin</td>\n",
       "      <td>1770.333333</td>\n",
       "      <td>1779.0</td>\n",
       "    </tr>\n",
       "    <tr>\n",
       "      <th>7</th>\n",
       "      <td>Minnesota</td>\n",
       "      <td>1777.666667</td>\n",
       "      <td>1782.8</td>\n",
       "    </tr>\n",
       "    <tr>\n",
       "      <th>8</th>\n",
       "      <td>Illinois</td>\n",
       "      <td>1780.833333</td>\n",
       "      <td>1785.4</td>\n",
       "    </tr>\n",
       "    <tr>\n",
       "      <th>9</th>\n",
       "      <td>Iowa</td>\n",
       "      <td>1799.666667</td>\n",
       "      <td>1787.0</td>\n",
       "    </tr>\n",
       "  </tbody>\n",
       "</table>\n",
       "</div>"
      ],
      "text/plain": [
       "          States  Average Score(2005-2010)  Average Score(2011-2015)\n",
       "0      Nebraska                1738.000000                    1736.4\n",
       "1        Kansas                1738.833333                    1749.8\n",
       "2      Michigan                1740.833333                    1752.2\n",
       "3  South Dakota                1759.500000                    1752.6\n",
       "4  North Dakota                1760.666667                    1791.8\n",
       "5      Missouri                1770.166667                    1764.2\n",
       "6     Wisconsin                1770.333333                    1779.0\n",
       "7     Minnesota                1777.666667                    1782.8\n",
       "8      Illinois                1780.833333                    1785.4\n",
       "9          Iowa                1799.666667                    1787.0"
      ]
     },
     "execution_count": 22,
     "metadata": {},
     "output_type": "execute_result"
    }
   ],
   "source": [
    "#The States that were in the top 10 in 2005-2010 that held their top 10 spot in 2011-2015\n",
    "\n",
    "reoccuring = top_10_first_6_years.merge(top_10_last_5_years, on='States', how='inner')\n",
    "reoccuring.columns = ['States', 'Average Score(2005-2010)', 'Average Score(2011-2015)']\n",
    "reoccuring\n",
    "\n"
   ]
  },
  {
   "cell_type": "markdown",
   "metadata": {},
   "source": [
    "### Statistical Analysis & EDA"
   ]
  },
  {
   "cell_type": "markdown",
   "metadata": {},
   "source": [
    "Put all values into an array to be thrown into a scatter plot. "
   ]
  },
  {
   "cell_type": "code",
   "execution_count": 23,
   "metadata": {},
   "outputs": [],
   "source": [
    "test = df.iloc[:,1:-1].values\n",
    "test2 = df2.iloc[:, 1:-1].values\n",
    "\n",
    "# sample1 = np.random.choice(test.flatten(), len(test))   Deprecated, save for possible use later\n",
    "# sample2 = np.random.choice(test2.flatten(), len(test2))  Depracted, save for possible use later\n",
    "\n",
    "#Scatter Plot\n",
    "first_df = df.drop(['Average Over 6 Years'], axis=1)\n",
    "df_plot = [first_df['2005 SAT Scores'], first_df['2006 SAT Scores'], first_df['2007 SAT Scores'],\n",
    "             first_df['2008 SAT Scores'], first_df['2009 SAT Scores'], first_df['2010 SAT Scores']]\n",
    "\n",
    "second_df = df2.drop(['Average Over 5 Years'], axis=1)\n",
    "df2_plot = [second_df['2011 SAT Scores'], second_df['2012 SAT Scores'], second_df['2013 SAT Scores'],\n",
    "       second_df['2014 SAT Scores'], second_df['2015 SAT Scores']]\n"
   ]
  },
  {
   "cell_type": "code",
   "execution_count": 24,
   "metadata": {},
   "outputs": [
    {
     "data": {
      "image/png": "[encoded data removed]",
      "text/plain": [
       "<Figure size 1080x288 with 1 Axes>"
      ]
     },
     "metadata": {
      "needs_background": "light"
     },
     "output_type": "display_data"
    }
   ],
   "source": [
    "\n",
    "fig, ax = plt.subplots(figsize=(15,4))\n",
    "jitter = np.random.uniform(-0.2, 0.1, size=second_df['2011 SAT Scores'].shape)\n",
    "jitter1 = np.random.uniform(0.9, 1.1, size=first_df['2005 SAT Scores'].shape)\n",
    "\n",
    "\n",
    "#2011-2015 Scatter plot\n",
    "for i in df2_plot:\n",
    "    ax.scatter(i, jitter, color='k', alpha=0.8)\n",
    "#Mean for 2011-2015 in red\n",
    "ax.scatter(test2.mean(), 0, color='red', s=100)\n",
    "\n",
    "\n",
    "#2005-2010 Scatterplot\n",
    "for i in df_plot:\n",
    "    ax.scatter(i, jitter1, color='k', alpha=0.8)\n",
    "    \n",
    "#Mean for 2005-2010 in red\n",
    "ax.scatter(test.mean(), 1, color='red', s=100)\n",
    "\n",
    "#Make plot look better\n",
    "ax.set_yticks([0,1])\n",
    "ax.set_yticklabels([\"2011-2015\", '2005-2010'])\n",
    "ax.set_ylim(-1,2)\n",
    "\n",
    "ax.set_title('Average Score Per Year per State', fontsize=15)\n",
    "fig.tight_layout()\n",
    "\n",
    "# plt.savefig('Comparison.png')"
   ]
  },
  {
   "cell_type": "markdown",
   "metadata": {},
   "source": [
    "Large spread with clusters at each end. Look through ethnicity as a factor"
   ]
  },
  {
   "cell_type": "code",
   "execution_count": 84,
   "metadata": {},
   "outputs": [
    {
     "data": {
      "text/html": [
       "<div>\n",
       "<style scoped>\n",
       "    .dataframe tbody tr th:only-of-type {\n",
       "        vertical-align: middle;\n",
       "    }\n",
       "\n",
       "    .dataframe tbody tr th {\n",
       "        vertical-align: top;\n",
       "    }\n",
       "\n",
       "    .dataframe thead th {\n",
       "        text-align: right;\n",
       "    }\n",
       "</style>\n",
       "<table border=\"1\" class=\"dataframe\">\n",
       "  <thead>\n",
       "    <tr style=\"text-align: right;\">\n",
       "      <th></th>\n",
       "      <th>Ethnicity</th>\n",
       "      <th>2005</th>\n",
       "      <th>2006</th>\n",
       "      <th>2007</th>\n",
       "      <th>2008</th>\n",
       "      <th>2009</th>\n",
       "      <th>2010</th>\n",
       "      <th>2011</th>\n",
       "      <th>2012</th>\n",
       "      <th>2013</th>\n",
       "      <th>2014</th>\n",
       "    </tr>\n",
       "  </thead>\n",
       "  <tbody>\n",
       "    <tr>\n",
       "      <th>1</th>\n",
       "      <td>White</td>\n",
       "      <td>1582</td>\n",
       "      <td>1579</td>\n",
       "      <td>1583</td>\n",
       "      <td>1581</td>\n",
       "      <td>1580</td>\n",
       "      <td>1579</td>\n",
       "      <td>1578</td>\n",
       "      <td>1576</td>\n",
       "      <td>1576</td>\n",
       "      <td>1576</td>\n",
       "    </tr>\n",
       "    <tr>\n",
       "      <th>2</th>\n",
       "      <td>Black</td>\n",
       "      <td>1291</td>\n",
       "      <td>1287</td>\n",
       "      <td>1280</td>\n",
       "      <td>1276</td>\n",
       "      <td>1277</td>\n",
       "      <td>1272</td>\n",
       "      <td>1273</td>\n",
       "      <td>1278</td>\n",
       "      <td>1278</td>\n",
       "      <td>1277</td>\n",
       "    </tr>\n",
       "    <tr>\n",
       "      <th>3</th>\n",
       "      <td>Mexican American</td>\n",
       "      <td>1371</td>\n",
       "      <td>1371</td>\n",
       "      <td>1364</td>\n",
       "      <td>1362</td>\n",
       "      <td>1369</td>\n",
       "      <td>1362</td>\n",
       "      <td>1356</td>\n",
       "      <td>1355</td>\n",
       "      <td>1354</td>\n",
       "      <td>1343</td>\n",
       "    </tr>\n",
       "    <tr>\n",
       "      <th>6</th>\n",
       "      <td>Asian</td>\n",
       "      <td>1600</td>\n",
       "      <td>1605</td>\n",
       "      <td>1610</td>\n",
       "      <td>1623</td>\n",
       "      <td>1636</td>\n",
       "      <td>1640</td>\n",
       "      <td>1641</td>\n",
       "      <td>1645</td>\n",
       "      <td>1651</td>\n",
       "      <td>1654</td>\n",
       "    </tr>\n",
       "    <tr>\n",
       "      <th>7</th>\n",
       "      <td>American Indian</td>\n",
       "      <td>981</td>\n",
       "      <td>981</td>\n",
       "      <td>976</td>\n",
       "      <td>979</td>\n",
       "      <td>977</td>\n",
       "      <td>972</td>\n",
       "      <td>971</td>\n",
       "      <td>966</td>\n",
       "      <td>967</td>\n",
       "      <td>963</td>\n",
       "    </tr>\n",
       "  </tbody>\n",
       "</table>\n",
       "</div>"
      ],
      "text/plain": [
       "          Ethnicity  2005  2006  2007  2008  2009  2010  2011  2012  2013  \\\n",
       "1             White  1582  1579  1583  1581  1580  1579  1578  1576  1576   \n",
       "2             Black  1291  1287  1280  1276  1277  1272  1273  1278  1278   \n",
       "3  Mexican American  1371  1371  1364  1362  1369  1362  1356  1355  1354   \n",
       "6             Asian  1600  1605  1610  1623  1636  1640  1641  1645  1651   \n",
       "7   American Indian   981   981   976   979   977   972   971   966   967   \n",
       "\n",
       "   2014  \n",
       "1  1576  \n",
       "2  1277  \n",
       "3  1343  \n",
       "6  1654  \n",
       "7   963  "
      ]
     },
     "execution_count": 84,
     "metadata": {},
     "output_type": "execute_result"
    }
   ],
   "source": [
    "#Reminder:\n",
    "df_eth"
   ]
  },
  {
   "cell_type": "markdown",
   "metadata": {},
   "source": [
    "Give me a break plz. Dataframe is setup to make life as hard as possible. Transposing to make plotting easier"
   ]
  },
  {
   "cell_type": "code",
   "execution_count": 155,
   "metadata": {},
   "outputs": [
    {
     "data": {
      "text/html": [
       "<div>\n",
       "<style scoped>\n",
       "    .dataframe tbody tr th:only-of-type {\n",
       "        vertical-align: middle;\n",
       "    }\n",
       "\n",
       "    .dataframe tbody tr th {\n",
       "        vertical-align: top;\n",
       "    }\n",
       "\n",
       "    .dataframe thead th {\n",
       "        text-align: right;\n",
       "    }\n",
       "</style>\n",
       "<table border=\"1\" class=\"dataframe\">\n",
       "  <thead>\n",
       "    <tr style=\"text-align: right;\">\n",
       "      <th></th>\n",
       "      <th>White</th>\n",
       "      <th>Black</th>\n",
       "      <th>Mexican American</th>\n",
       "      <th>Asian</th>\n",
       "      <th>American Indian</th>\n",
       "    </tr>\n",
       "    <tr>\n",
       "      <th>Year</th>\n",
       "      <th></th>\n",
       "      <th></th>\n",
       "      <th></th>\n",
       "      <th></th>\n",
       "      <th></th>\n",
       "    </tr>\n",
       "  </thead>\n",
       "  <tbody>\n",
       "    <tr>\n",
       "      <th>2005</th>\n",
       "      <td>1582</td>\n",
       "      <td>1291</td>\n",
       "      <td>1371</td>\n",
       "      <td>1600</td>\n",
       "      <td>981</td>\n",
       "    </tr>\n",
       "    <tr>\n",
       "      <th>2006</th>\n",
       "      <td>1579</td>\n",
       "      <td>1287</td>\n",
       "      <td>1371</td>\n",
       "      <td>1605</td>\n",
       "      <td>981</td>\n",
       "    </tr>\n",
       "    <tr>\n",
       "      <th>2007</th>\n",
       "      <td>1583</td>\n",
       "      <td>1280</td>\n",
       "      <td>1364</td>\n",
       "      <td>1610</td>\n",
       "      <td>976</td>\n",
       "    </tr>\n",
       "    <tr>\n",
       "      <th>2008</th>\n",
       "      <td>1581</td>\n",
       "      <td>1276</td>\n",
       "      <td>1362</td>\n",
       "      <td>1623</td>\n",
       "      <td>979</td>\n",
       "    </tr>\n",
       "    <tr>\n",
       "      <th>2009</th>\n",
       "      <td>1580</td>\n",
       "      <td>1277</td>\n",
       "      <td>1369</td>\n",
       "      <td>1636</td>\n",
       "      <td>977</td>\n",
       "    </tr>\n",
       "    <tr>\n",
       "      <th>2010</th>\n",
       "      <td>1579</td>\n",
       "      <td>1272</td>\n",
       "      <td>1362</td>\n",
       "      <td>1640</td>\n",
       "      <td>972</td>\n",
       "    </tr>\n",
       "    <tr>\n",
       "      <th>2011</th>\n",
       "      <td>1578</td>\n",
       "      <td>1273</td>\n",
       "      <td>1356</td>\n",
       "      <td>1641</td>\n",
       "      <td>971</td>\n",
       "    </tr>\n",
       "    <tr>\n",
       "      <th>2012</th>\n",
       "      <td>1576</td>\n",
       "      <td>1278</td>\n",
       "      <td>1355</td>\n",
       "      <td>1645</td>\n",
       "      <td>966</td>\n",
       "    </tr>\n",
       "    <tr>\n",
       "      <th>2013</th>\n",
       "      <td>1576</td>\n",
       "      <td>1278</td>\n",
       "      <td>1354</td>\n",
       "      <td>1651</td>\n",
       "      <td>967</td>\n",
       "    </tr>\n",
       "    <tr>\n",
       "      <th>2014</th>\n",
       "      <td>1576</td>\n",
       "      <td>1277</td>\n",
       "      <td>1343</td>\n",
       "      <td>1654</td>\n",
       "      <td>963</td>\n",
       "    </tr>\n",
       "  </tbody>\n",
       "</table>\n",
       "</div>"
      ],
      "text/plain": [
       "     White Black Mexican American Asian American Indian\n",
       "Year                                                   \n",
       "2005  1582  1291             1371  1600             981\n",
       "2006  1579  1287             1371  1605             981\n",
       "2007  1583  1280             1364  1610             976\n",
       "2008  1581  1276             1362  1623             979\n",
       "2009  1580  1277             1369  1636             977\n",
       "2010  1579  1272             1362  1640             972\n",
       "2011  1578  1273             1356  1641             971\n",
       "2012  1576  1278             1355  1645             966\n",
       "2013  1576  1278             1354  1651             967\n",
       "2014  1576  1277             1343  1654             963"
      ]
     },
     "execution_count": 155,
     "metadata": {},
     "output_type": "execute_result"
    }
   ],
   "source": [
    "ethn_sat = df_eth.T.reset_index()\n",
    "ethn_sat.columns = ['Year', 'White', 'Black', 'Mexican American', 'Asian', 'American Indian']\n",
    "ethn_sat.drop([0], inplace=True)\n",
    "\n",
    "ethn_sat.set_index(['Year'], inplace=True)\n",
    "ethn_sat"
   ]
  },
  {
   "cell_type": "code",
   "execution_count": 161,
   "metadata": {},
   "outputs": [
    {
     "data": {
      "image/png": "[encoded data removed]",
      "text/plain": [
       "<Figure size 1008x360 with 1 Axes>"
      ]
     },
     "metadata": {
      "needs_background": "light"
     },
     "output_type": "display_data"
    }
   ],
   "source": [
    "fig, ax = plt.subplots(figsize=(14,5))\n",
    "handle = [Rectangle((0,0),1,1,color=c) for c in ['blue', 'green', 'orange', 'pink', 'yellow']]\n",
    "\n",
    "for i in throw.columns:\n",
    "    ax.plot(ethn_sat.index, ethn_sat[i], linewidth=3)\n",
    "    ax.scatter(ethn_sat.index, ethn_sat[i], marker='s', s=100)\n",
    "\n",
    "ax.set_title('SAT Scores my Ethnicity', size=15)\n",
    "ax.set_xlabel('Year', size=12)\n",
    "ax.set_ylabel('Score', size=12)\n",
    "ax.legend(handle, ethn_sat.columns, prop={'size':12}, bbox_to_anchor=(1,0.8))\n",
    "\n",
    "# plt.savefig('ethnicity_comparison.png')"
   ]
  },
  {
   "cell_type": "markdown",
   "metadata": {},
   "source": [
    "Histogram by subject"
   ]
  },
  {
   "cell_type": "code",
   "execution_count": 25,
   "metadata": {},
   "outputs": [],
   "source": [
    "#Merger function to plot by subject\n",
    "\n",
    "def subject_merge(df_list):\n",
    "    return reduce(lambda x, y: pd.merge(x,y, on='State', how='inner'), df_list)\n"
   ]
  },
  {
   "cell_type": "code",
   "execution_count": 26,
   "metadata": {},
   "outputs": [
    {
     "data": {
      "image/png": "[encoded data removed]",
      "text/plain": [
       "<Figure size 1008x288 with 3 Axes>"
      ]
     },
     "metadata": {
      "needs_background": "light"
     },
     "output_type": "display_data"
    }
   ],
   "source": [
    "#To rename columns\n",
    "subjects = ['','Reading', 'Math', 'Writing']\n",
    "\n",
    "#Arguments for merger function\n",
    "first_half = [sat_2005, sat_2006, sat_2007,\n",
    "              sat_2008, sat_2009, sat_2010]\n",
    "\n",
    "latter_half = [sat_2011, sat_2012, sat_2013, \n",
    "            sat_2014, sat_2015]\n",
    "\n",
    "\n",
    "#Change variable name once morale has returned\n",
    "please = subject_merge(first_half)\n",
    "help_me = subject_merge(latter_half)\n",
    "\n",
    "fig, axs = plt.subplots(1,3, figsize=(14,4))\n",
    "\n",
    "#Plot 2005-2010 subjects\n",
    "for i, ax in enumerate(axs,1):\n",
    "    ax.hist(please.iloc[:,i::4].values.flatten(), color='crimson', bins=10, alpha=0.8)\n",
    "    ax.set_ylabel(f'{subjects[i]}', fontsize=12)\n",
    "    ax.set_ylim(0,60)\n",
    "\n",
    "#Plot for 2011-2015\n",
    "for i, ax in enumerate(axs, 1):\n",
    "    ax.hist(help_me.iloc[:, i::4].values.flatten(), bins=10, alpha=0.8)\n",
    "#     ax.set_ylabel(f'{subjects[i]}', fontsize=12)\n",
    "#     ax.set_ylim(0,60)\n",
    "\n",
    "#Setting up legend\n",
    "handles = [Rectangle((0,0),1,1,color=c) for c in ['crimson', 'blue']]\n",
    "labels = ['2005-2010', '2011-2015']\n",
    "for ax in axs:\n",
    "    ax.legend(handles, labels)\n",
    "\n",
    "fig.suptitle('Score Comparison by Subject', fontsize=20)\n",
    "fig.tight_layout()\n",
    "fig.subplots_adjust(top=0.88)\n",
    "\n",
    "# plt.savefig('subject_comparison.png')"
   ]
  },
  {
   "cell_type": "code",
   "execution_count": 27,
   "metadata": {},
   "outputs": [
    {
     "data": {
      "image/png": "[encoded data removed]",
      "text/plain": [
       "<Figure size 1296x288 with 3 Axes>"
      ]
     },
     "metadata": {
      "needs_background": "light"
     },
     "output_type": "display_data"
    }
   ],
   "source": [
    "fig, axs = plt.subplots(1,3, figsize=(18,4))\n",
    "\n",
    "for i, ax in enumerate(axs, 1):\n",
    "    ax.hist(help_me.iloc[:, i::4].values.flatten(), bins=10)\n",
    "    ax.set_ylabel(f'{subjects[i]}', fontsize=12)\n",
    "    ax.set_ylim(0,60)\n",
    "    \n",
    "#Deprecated plot plotted on top of the other above"
   ]
  },
  {
   "cell_type": "markdown",
   "metadata": {},
   "source": [
    "Pairwise comparison of subjects"
   ]
  },
  {
   "cell_type": "code",
   "execution_count": 28,
   "metadata": {},
   "outputs": [
    {
     "data": {
      "text/plain": [
       "<seaborn.axisgrid.PairGrid at 0x7fdc21184910>"
      ]
     },
     "execution_count": 28,
     "metadata": {},
     "output_type": "execute_result"
    },
    {
     "data": {
      "image/png": "[encoded data removed]",
      "text/plain": [
       "<Figure size 540x540 with 12 Axes>"
      ]
     },
     "metadata": {
      "needs_background": "light"
     },
     "output_type": "display_data"
    }
   ],
   "source": [
    "#Null: There is no difference in the average SAT scores of 2005-2010 and the average SAT scores of 2011-2015\n",
    "for i in range(1,4):\n",
    "    please[i] = please.iloc[:, i::4].mean(axis=1)\n",
    "please.rename(columns = {1:'Reading', 2: 'Math', 3: 'Writing'}, inplace=True)\n",
    "\n",
    "sns.pairplot(please[['Reading', 'Math', 'Writing']])"
   ]
  },
  {
   "cell_type": "markdown",
   "metadata": {},
   "source": [
    "### 2017-2018 EDA"
   ]
  },
  {
   "cell_type": "code",
   "execution_count": 29,
   "metadata": {},
   "outputs": [],
   "source": [
    "#Cleaning Functions for revised SAT test\n",
    "def new_sat_cleaning(df, start, end, rename_col=['State', 'Total', 'Reading + Writing', 'Math']):\n",
    "    data_year = df.iloc[:, start:end:2]\n",
    "    \n",
    "    data_year.insert(0, 'States', clean_states(df))\n",
    "    data_year.columns = rename_col\n",
    "    \n",
    "    return data_year"
   ]
  },
  {
   "cell_type": "code",
   "execution_count": 30,
   "metadata": {},
   "outputs": [
    {
     "data": {
      "image/png": "[encoded data removed]",
      "text/plain": [
       "<Figure size 1296x360 with 3 Axes>"
      ]
     },
     "metadata": {
      "needs_background": "light"
     },
     "output_type": "display_data"
    }
   ],
   "source": [
    "cleaned_ = sat_2017_2018[pd.notnull(sat_2017_2018.iloc[:,2])]\n",
    "\n",
    "#Cleaning up 2017 and 2018 year to be plotted\n",
    "clean_2017 = new_sat_cleaning(cleaned_, 1, 7)\n",
    "clean_2018 = new_sat_cleaning(cleaned_, 8, 14)\n",
    "\n",
    "\n",
    "\n",
    "fig, axs = plt.subplots(1,3, figsize=(18,5))\n",
    "labels = ['', 'Total', 'Reading + Writing', 'Math']\n",
    "for i, ax in enumerate(axs, 1):\n",
    "    ax.hist(clean_2017.iloc[:, i].values, bins=10)\n",
    "    ax.set_ylabel(labels[i], fontsize=12)\n",
    "    ax.set_ylim(0,25)\n",
    "    ax.hist(clean_2018.iloc[:, i].values, bins=10)\n",
    "    \n",
    "handles = [Rectangle((0,0),1,1,color=c) for c in ['blue', 'green']]\n",
    "labels = ['2017', '2018']\n",
    "for ax in axs:\n",
    "    ax.legend(handles, labels, prop={'size':15})\n",
    "\n",
    "fig.suptitle('Score Comparison by Subject', fontsize=20)\n",
    "fig.tight_layout()\n",
    "fig.subplots_adjust(top=0.88)\n",
    "    \n",
    "\n",
    "# plt.savefig('2017_2018_Comparison.png')"
   ]
  },
  {
   "cell_type": "code",
   "execution_count": 31,
   "metadata": {},
   "outputs": [
    {
     "data": {
      "image/png": "[encoded data removed]",
      "text/plain": [
       "<Figure size 360x360 with 6 Axes>"
      ]
     },
     "metadata": {
      "needs_background": "light"
     },
     "output_type": "display_data"
    }
   ],
   "source": [
    "sns.pairplot(clean_2017[['Reading + Writing', 'Math']])\n",
    "\n",
    "plt.savefig('pairwise_relationship_latest.png')"
   ]
  },
  {
   "cell_type": "code",
   "execution_count": 32,
   "metadata": {},
   "outputs": [],
   "source": [
    "#We can infer that the null hypothesis is true based on the scatter plot above. For completion sake,\n",
    "#Performed U test to confirm hypothesis test.\n",
    "\n",
    "def count_winning_pairs(sample_1, sample_2):\n",
    "    n_total_wins = 0\n",
    "    for x in sample_1:\n",
    "        n_wins = np.sum(x > sample_2) + 0.5*np.sum(x == sample_2)\n",
    "        n_total_wins += n_wins\n",
    "    return n_total_wins"
   ]
  },
  {
   "cell_type": "code",
   "execution_count": 33,
   "metadata": {},
   "outputs": [
    {
     "name": "stdout",
     "output_type": "stream",
     "text": [
      "32160.5\n",
      "34079.5\n"
     ]
    }
   ],
   "source": [
    "#Score comparison where the 2005-2010 > 2011-2015\n",
    "old_wins = count_winning_pairs(test.flatten(), test2.flatten())\n",
    "#Score comparison where 2011-2015 > 2005-2010\n",
    "new_wins = count_winning_pairs(test2.flatten(), test.flatten())\n",
    "\n",
    "\n",
    "print(old_wins)\n",
    "print(new_wins)"
   ]
  },
  {
   "cell_type": "code",
   "execution_count": 34,
   "metadata": {},
   "outputs": [
    {
     "name": "stdout",
     "output_type": "stream",
     "text": [
      "p-value for 2005-2010 > 2011-2015: 0.7147058630847203\n",
      "Accept the null hypothesis\n"
     ]
    }
   ],
   "source": [
    "#U test to get the p-value\n",
    "#Not expecting a large increase in average score so set alpha at a lenient level of 0.20\n",
    "\n",
    "res = stats.mannwhitneyu(test.flatten(), test2.flatten(), alternative='greater')\n",
    "\n",
    "print(f'p-value for 2005-2010 > 2011-2015: {res.pvalue}')\n",
    "print('Accept the null hypothesis')"
   ]
  }
 ],
 "metadata": {
  "kernelspec": {
   "display_name": "Python 3",
   "language": "python",
   "name": "python3"
  },
  "language_info": {
   "codemirror_mode": {
    "name": "ipython",
    "version": 3
   },
   "file_extension": ".py",
   "mimetype": "text/x-python",
   "name": "python",
   "nbconvert_exporter": "python",
   "pygments_lexer": "ipython3",
   "version": "3.8.2"
  }
 },
 "nbformat": 4,
 "nbformat_minor": 4
}
